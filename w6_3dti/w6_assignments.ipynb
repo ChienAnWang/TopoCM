{
 "cells": [
  {
   "cell_type": "code",
   "execution_count": null,
   "metadata": {},
   "outputs": [],
   "source": [
    "import sys\n",
    "sys.path.append('../code')\n",
    "from init_mooc_nb import *\n",
    "init_notebook()"
   ]
  },
  {
   "cell_type": "markdown",
   "metadata": {},
   "source": [
    "# Simulations: more Chern insulators"
   ]
  },
  {
   "cell_type": "markdown",
   "metadata": {},
   "source": [
    "As usual, start by grabbing the notebooks of this week (`w6_3dti`). They are once again over [here](http://tiny.cc/topocm_smc).\n",
    "\n",
    "Simulations of the three-dimensional systems are hard, mostly because they take a lot of computational power. That's why we'll do something relatively simple this time.\n",
    "\n",
    "### Breaking time-reversal\n",
    "\n",
    "One mechanism of opening the gap on the surface of a topological insulator is to bring it into contact with a ferromagnet, which creates an effective Zeeman field.\n",
    "\n",
    "* By calculating dispersion of a slab of 3D TI, observe the effect of Zeeman field pointing in different directions on the surface state dispersion. Find out which direction of the Zeeman field opens the gap in the surface state.\n",
    "* Make a domain wall between different orientations of Zeeman field. Are there any modes in this domain wall?\n",
    "\n",
    "### Many invariants\n",
    "\n",
    "The BHZ model is rather rich and allows to produce every possible topological invariant. Can you find the parameter values that produce all the desired values of the invariants? (Hint: you need to make the model anisotropic). "
   ]
  },
  {
   "cell_type": "code",
   "execution_count": null,
   "metadata": {},
   "outputs": [],
   "source": [
    "MoocSelfAssessment()"
   ]
  },
  {
   "cell_type": "markdown",
   "metadata": {},
   "source": [
    "**Now share your results:**"
   ]
  },
  {
   "cell_type": "code",
   "execution_count": null,
   "metadata": {},
   "outputs": [],
   "source": [
    "MoocDiscussion('Labs', '3DTI')"
   ]
  },
  {
   "cell_type": "markdown",
   "metadata": {},
   "source": [
    "# Review assignment"
   ]
  },
  {
   "cell_type": "code",
   "execution_count": null,
   "metadata": {},
   "outputs": [],
   "source": [
    "display_html(PreprintReference('1410.0655', description=\"What enters the measurement of a Dirac point conductance\"))\n",
    "display_html(PreprintReference('0811.1303', description=\"Consequences of magneto-electric effect\"))\n",
    "display_html(PreprintReference('1401.7461', description=\"Weak and strong topological insulators with disorder\"))\n",
    "display_html(PreprintReference('1311.1758', description=\"Topological, but not insulator\"))\n",
    "display_html(PreprintReference('1005.3762', description=\"Threading flux through a topological insulator\"))"
   ]
  },
  {
   "cell_type": "markdown",
   "metadata": {},
   "source": [
    "### Bonus: Find your own paper to review!\n",
    "\n",
    "Do you know of another paper that fits into the topics of this week, and you think is good?\n",
    "Then you can get bonus points by reviewing that paper instead!"
   ]
  },
  {
   "cell_type": "code",
   "execution_count": null,
   "metadata": {},
   "outputs": [],
   "source": [
    "MoocPeerAssessment()"
   ]
  },
  {
   "cell_type": "markdown",
   "metadata": {},
   "source": [
    "**Do you have questions about what you read? Would you like to suggest other papers? Tell us:**"
   ]
  },
  {
   "cell_type": "code",
   "execution_count": null,
   "metadata": {},
   "outputs": [],
   "source": [
    "MoocDiscussion(\"Reviews\", \"3DTI\")"
   ]
  }
 ],
 "metadata": {
  "kernelspec": {
   "display_name": "Python 3",
   "language": "python",
   "name": "python3"
  },
  "language_info": {
   "codemirror_mode": {
    "name": "ipython",
    "version": 3
   },
   "file_extension": ".py",
   "mimetype": "text/x-python",
   "name": "python",
   "nbconvert_exporter": "python",
   "pygments_lexer": "ipython3"
  }
 },
 "nbformat": 4,
 "nbformat_minor": 1
}
