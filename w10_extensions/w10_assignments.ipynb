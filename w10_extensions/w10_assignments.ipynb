{
 "cells": [
  {
   "cell_type": "code",
   "execution_count": null,
   "metadata": {},
   "outputs": [],
   "source": [
    "import sys\n",
    "sys.path.append('../code')\n",
    "from init_mooc_nb import *\n",
    "init_notebook()"
   ]
  },
  {
   "cell_type": "markdown",
   "metadata": {},
   "source": [
    "# Simulations"
   ]
  },
  {
   "cell_type": "markdown",
   "metadata": {},
   "source": [
    "As usual, start by grabbing the notebooks of this week (`w10_extensions`). They are once again over [here](http://tiny.cc/topocm_smc)."
   ]
  },
  {
   "cell_type": "markdown",
   "metadata": {},
   "source": [
    "## Weyl semimetal with time-reversal symmetry.\n",
    "\n",
    "Time-reversal symmetry has a very similar effect on Weyl semimetals as it has on gapless superconductors: it keeps the value of the Chern number around the Weyl point the same, and leads to appearance of quadruplets of Weyl points.\n",
    "\n",
    "Your task is to construct a Weyl semimetal with time reversal symmetry. As we discussed, 4 Weyl points are needed.\n",
    "\n",
    "If you don't know where to start, here's a hint: you're not the first one who wants to construct a Weyl semimetal with time reversal, search on arxiv."
   ]
  },
  {
   "cell_type": "markdown",
   "metadata": {},
   "source": [
    "## Graphene edge states.\n",
    "\n",
    "Graphene, just like $d$-wave superconductors has edge states. They only exist when the Dirac points are not located at coinciding momenta parallel to the boundary.\n",
    "\n",
    "Define a graphene ribbon supporting edge states. For that you'll need to figure out which orientation to choose.\n",
    "\n",
    "Then try to add a term to the boundary that breaks the sublattice symmetry and moves the edge states from zero energy. What happens?\n",
    "\n",
    "What if you add the next-nearest neighbor hopping in the bulk. What do you see now?\n",
    "\n",
    "Try to remove the edge states completely by tweaking the sublattice symmetry breaking term at the edge. Did you succeed? How?"
   ]
  },
  {
   "cell_type": "code",
   "execution_count": null,
   "metadata": {},
   "outputs": [],
   "source": [
    "MoocSelfAssessment()"
   ]
  },
  {
   "cell_type": "markdown",
   "metadata": {},
   "source": [
    "**Now share your results:**"
   ]
  },
  {
   "cell_type": "code",
   "execution_count": null,
   "metadata": {},
   "outputs": [],
   "source": [
    "MoocDiscussion('Labs', 'Extensions')"
   ]
  },
  {
   "cell_type": "markdown",
   "metadata": {},
   "source": [
    "# Review assignment"
   ]
  },
  {
   "cell_type": "code",
   "execution_count": null,
   "metadata": {},
   "outputs": [],
   "source": [
    "display_html(PreprintReference('1504.01350'))\n",
    "display_html(PreprintReference('1503.06808', description=\"Different mechanical TI\"))\n",
    "display_html(PreprintReference('1309.5846', description=\"Weyl + disorder\"))\n",
    "display_html(PreprintReference('1410.1320', description=\"The best of both worlds\"))\n",
    "display_html(PreprintReference('0909.5680', description=\"A general approach to gapless superconductors.\"))"
   ]
  },
  {
   "cell_type": "markdown",
   "metadata": {},
   "source": [
    "### Bonus: Find your own paper to review!\n",
    "\n",
    "Do you know of another paper that fits into the topics of this week, and you think is good?\n",
    "Then you can get bonus points by reviewing that paper instead!"
   ]
  },
  {
   "cell_type": "code",
   "execution_count": null,
   "metadata": {},
   "outputs": [],
   "source": [
    "MoocPeerAssessment()"
   ]
  },
  {
   "cell_type": "markdown",
   "metadata": {},
   "source": [
    "**Do you have questions about what you read? Would you like to suggest other papers? Tell us:**"
   ]
  },
  {
   "cell_type": "code",
   "execution_count": null,
   "metadata": {},
   "outputs": [],
   "source": [
    "MoocDiscussion(\"Reviews\", \"Extensions\")"
   ]
  }
 ],
 "metadata": {
  "kernelspec": {
   "display_name": "Python 3",
   "language": "python",
   "name": "python3"
  },
  "language_info": {
   "codemirror_mode": {
    "name": "ipython",
    "version": 3
   },
   "file_extension": ".py",
   "mimetype": "text/x-python",
   "name": "python",
   "nbconvert_exporter": "python",
   "pygments_lexer": "ipython3"
  }
 },
 "nbformat": 4,
 "nbformat_minor": 1
}
