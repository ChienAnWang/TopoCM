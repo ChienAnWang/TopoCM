{
 "cells": [
  {
   "cell_type": "code",
   "execution_count": null,
   "metadata": {
    "collapsed": false
   },
   "outputs": [],
   "source": [
    "import sys\n",
    "sys.path.append('../code')\n",
    "from init_mooc_nb import *\n",
    "init_notebook()"
   ]
  },
  {
   "cell_type": "markdown",
   "metadata": {},
   "source": [
    "# Simulations: Disorder, butterflies, and honeycombs"
   ]
  },
  {
   "cell_type": "markdown",
   "metadata": {},
   "source": [
    "As usual, start by grabbing the notebooks of this week (`w3_pump_QHE`). They are once again over [here](http://tiny.cc/topocm_smc).\n",
    "\n",
    "There are really plenty of things that one can study with the quantum Hall effect and pumps. Remember, that you don't need to do everything at once (but of course all of the simulations are quite fun!)\n",
    "\n",
    "### Pumping with disorder\n",
    "\n",
    "Grab the simulations of the Thouless pump, and see what happens to the pump when you add disorder. Try both the winding in a pump with reservoirs attached, and the spectrum of a closed pump. Can you explain what you observe?\n",
    "\n",
    "### Butterfly\n",
    "\n",
    "Take a look at how we calculate numerically the spectrum of Landau levels in the Laughlin argument chapter.\n",
    "We were always careful to only take weak fields so that the flux per unit cell of the tight binding lattice is small.\n",
    "This is done to avoid certain [notorious insects](http://en.wikipedia.org/wiki/Hofstadter%27s_butterfly), but nothing should prevent you from cranking up the magnetic field and seeing this beautiful phenomenon.\n",
    "\n",
    "Plot the spectrum of a quantum Hall layer rolled into a cylinder at a fixed momentum as a function of $B$ as $B$ goes to one flux quantum per unit cell, so in lattice units $B = 2\\pi$. Bonus (requires more work): attach a lead to the cylinder, calculate pumping, and color the butterfly according to the pumped charge.\n",
    "\n",
    "### Graphene\n",
    "\n",
    "Take a look at how to implement a honeycomb lattice in Kwant [tutorials](http://kwant-project.org/doc/1.0/tutorial/tutorial4), and modify the Hall bar from the Laughlin argument notebook to be made of graphene. Observe the famous [unconventional quantum Hall effect](http://arxiv.org/abs/cond-mat/0602565).\n",
    "\n",
    "Bonus: See what happens to the edge states as you introduce a constriction in the middle of the Hall bar. This is an extremely useful experimental tool used in making quantum Hall interferometers (also check out the density of states using the code from the edge states notebook)."
   ]
  },
  {
   "cell_type": "code",
   "execution_count": null,
   "metadata": {
    "collapsed": false
   },
   "outputs": [],
   "source": [
    "MoocSelfAssessment(due=4*7, review_due=5*7)"
   ]
  },
  {
   "cell_type": "markdown",
   "metadata": {},
   "source": [
    "**Now share your results:**"
   ]
  },
  {
   "cell_type": "code",
   "execution_count": null,
   "metadata": {
    "collapsed": false
   },
   "outputs": [],
   "source": [
    "MoocDiscussion('Labs', 'Quantum Hall effect')"
   ]
  },
  {
   "cell_type": "markdown",
   "metadata": {},
   "source": [
    "# Review assignment"
   ]
  },
  {
   "cell_type": "markdown",
   "metadata": {},
   "source": [
    "For the third week we have these papers:"
   ]
  },
  {
   "cell_type": "code",
   "execution_count": null,
   "metadata": {
    "collapsed": false
   },
   "outputs": [],
   "source": [
    "display_html(PreprintReference('1109.5983', description=\"Topological pumping can be used to characterize quasicrystals too! \"\n",
    "                \"Whether this is really unique to quasicrystals is debated though <a href=http://arxiv.org/abs/1307.2577v2>\"\n",
    "                \"http://arxiv.org/abs/1307.2577v2</a>\"))\n",
    "display_html(PreprintReference('cond-mat/0602645', \n",
    "  description=\"Quantum Hall effect applies beyond parabolic dispersions with interesting twists. \"\n",
    "              \"Figure out what different features arise from other cases. \"))\n",
    "\n",
    "display_html(PreprintReference('1201.4167', description=\"An experiment detecting the interesting consequences of \"\n",
    "                                       \"coexistence of quantum Hall and ferromagnetism in graphene.\"))\n",
    "display_html(PreprintReference('0710.2806', description=\"Aharonov-Bohm interference using quantum hall edge\"\n",
    "                                       \"quasiparticles.\"))"
   ]
  },
  {
   "cell_type": "markdown",
   "metadata": {},
   "source": [
    "### Bonus: Find your own paper to review!\n",
    "\n",
    "Do you know of another paper that fits into the topics of this week, and you think is good?\n",
    "Then you can get bonus points by reviewing that paper instead!"
   ]
  },
  {
   "cell_type": "code",
   "execution_count": null,
   "metadata": {
    "collapsed": false
   },
   "outputs": [],
   "source": [
    "MoocPeerAssessment(due=4*7, review_due=5*7)"
   ]
  },
  {
   "cell_type": "markdown",
   "metadata": {},
   "source": [
    "**Do you have questions about what you read? Would you like to suggest other papers? Tell us:**"
   ]
  },
  {
   "cell_type": "code",
   "execution_count": null,
   "metadata": {
    "collapsed": false
   },
   "outputs": [],
   "source": [
    "MoocDiscussion(\"Reviews\", \"Quantum Hall effect\")"
   ]
  }
 ],
 "metadata": {
  "kernelspec": {
   "display_name": "Python 3",
   "language": "python",
   "name": "python3"
  },
  "language_info": {
   "codemirror_mode": {
    "name": "ipython",
    "version": 3
   },
   "file_extension": ".py",
   "mimetype": "text/x-python",
   "name": "python",
   "nbconvert_exporter": "python",
   "pygments_lexer": "ipython3"
  }
 },
 "nbformat": 4,
 "nbformat_minor": 0
}
