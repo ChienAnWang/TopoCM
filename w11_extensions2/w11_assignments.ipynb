{
 "cells": [
  {
   "cell_type": "code",
   "execution_count": null,
   "metadata": {},
   "outputs": [],
   "source": [
    "import sys\n",
    "sys.path.append('../code')\n",
    "from init_mooc_nb import *\n",
    "init_notebook()"
   ]
  },
  {
   "cell_type": "markdown",
   "metadata": {},
   "source": [
    "# Simulation: powers combined"
   ]
  },
  {
   "cell_type": "markdown",
   "metadata": {},
   "source": [
    "As usual, start by grabbing the notebooks of this week (`w11_extensions2`). They are once again over [here](http://tiny.cc/topocm_smc)."
   ]
  },
  {
   "cell_type": "markdown",
   "metadata": {},
   "source": [
    "Are you tired yet of all the different kinds of topology? If no, this assignment is for you :-)\n",
    "\n",
    "By now you should have a feel for how to make new topological phases. Your task now is to combine the two systems you've learned about and to create a Floquet crystalline topological insulator. If you want even more challenge, create also a gapless Floquet topological material.\n",
    "\n",
    "Take care however: if you take a topologically nontrivial system and just apply rapid driving, you'll still get a topological one. This cheating way is prohibited: at any moment during the driving cycle the Hamiltonian of your system should remain gapped."
   ]
  },
  {
   "cell_type": "code",
   "execution_count": null,
   "metadata": {},
   "outputs": [],
   "source": [
    "MoocSelfAssessment()"
   ]
  },
  {
   "cell_type": "markdown",
   "metadata": {},
   "source": [
    "**Now share your results:**"
   ]
  },
  {
   "cell_type": "code",
   "execution_count": null,
   "metadata": {},
   "outputs": [],
   "source": [
    "MoocDiscussion('Labs', 'Floquet and crystalline')"
   ]
  },
  {
   "cell_type": "markdown",
   "metadata": {},
   "source": [
    "# Review assignment"
   ]
  },
  {
   "cell_type": "code",
   "execution_count": null,
   "metadata": {},
   "outputs": [],
   "source": [
    "display_html(PreprintReference('1010.6126', description=\"Computes topological edge states from floquet Hamiltonian.\"))\n",
    "display_html(PreprintReference('1212.3324', description=\"Points out and explains why the floquet Hamiltonian in momentum space \"\n",
    "                               \"does not capture the presence of floquet edge states.\"))\n",
    "display_html(PreprintReference('1202.1003', description=\"Theoretical prediction of topological crystalline insulator\"))\n",
    "display_html(PreprintReference('1212.6191', description=\"Are topological crystalline surface states stable against \"\n",
    "                               \"disorder?\"))"
   ]
  },
  {
   "cell_type": "markdown",
   "metadata": {},
   "source": [
    "### Bonus: Find your own paper to review!\n",
    "\n",
    "Do you know of another paper that fits into the topics of this week, and you think is good?\n",
    "Then you can get bonus points by reviewing that paper instead!"
   ]
  },
  {
   "cell_type": "code",
   "execution_count": null,
   "metadata": {},
   "outputs": [],
   "source": [
    "MoocPeerAssessment()"
   ]
  },
  {
   "cell_type": "markdown",
   "metadata": {},
   "source": [
    "**Do you have questions about what you read? Would you like to suggest other papers? Tell us:**"
   ]
  },
  {
   "cell_type": "code",
   "execution_count": null,
   "metadata": {},
   "outputs": [],
   "source": [
    "MoocDiscussion(\"Reviews\", \"Floquet and crystalline\")"
   ]
  }
 ],
 "metadata": {
  "kernelspec": {
   "display_name": "Python 3",
   "language": "python",
   "name": "python3"
  },
  "language_info": {
   "codemirror_mode": {
    "name": "ipython",
    "version": 3
   },
   "file_extension": ".py",
   "mimetype": "text/x-python",
   "name": "python",
   "nbconvert_exporter": "python",
   "pygments_lexer": "ipython3"
  }
 },
 "nbformat": 4,
 "nbformat_minor": 1
}
